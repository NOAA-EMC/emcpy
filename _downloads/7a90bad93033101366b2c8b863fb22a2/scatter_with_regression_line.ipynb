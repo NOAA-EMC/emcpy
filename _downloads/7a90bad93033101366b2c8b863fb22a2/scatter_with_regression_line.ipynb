{
  "cells": [
    {
      "cell_type": "markdown",
      "metadata": {},
      "source": [
        "\n# Creating a Scatter Plot with a Regression Line\n\nThe following is an example of how to plot data\nas a scatter plot and include a linear regression\nline. Calling the linear regression function will\ngive the user the y=mx+b equation as well as the\nR-squared value if the user specifies a legend.\n"
      ]
    },
    {
      "cell_type": "code",
      "execution_count": null,
      "metadata": {
        "collapsed": false
      },
      "outputs": [],
      "source": [
        "import numpy as np\nimport matplotlib.pyplot as plt\n\nfrom emcpy.plots.plots import Scatter\nfrom emcpy.plots.create_plots import CreatePlot, CreateFigure\nfrom emcpy.stats import get_linear_regression\n\n\ndef main():\n    # Create test data\n    rng = np.random.RandomState(0)\n    x = rng.randn(100)\n    y = rng.randn(100)\n\n    # Create Scatter object\n    sctr1 = Scatter(x, y)\n    # Add linear regression feature in scatter object\n    sctr1.do_linear_regression = True\n    sctr1.add_linear_regression()\n\n    # Create plot object and add features\n    plot1 = CreatePlot()\n    plot1.plot_layers = [sctr1]\n    plot1.add_title(label='Test Scatter Plot')\n    plot1.add_xlabel(xlabel='X Axis Label')\n    plot1.add_ylabel(ylabel='Y Axis Label')\n    plot1.add_legend()\n\n    # Create figure\n    fig = CreateFigure()\n    fig.plot_list = [plot1]\n    fig.create_figure()\n\n    plt.show()\n\n\nif __name__ == '__main__':\n    main()"
      ]
    }
  ],
  "metadata": {
    "kernelspec": {
      "display_name": "Python 3",
      "language": "python",
      "name": "python3"
    },
    "language_info": {
      "codemirror_mode": {
        "name": "ipython",
        "version": 3
      },
      "file_extension": ".py",
      "mimetype": "text/x-python",
      "name": "python",
      "nbconvert_exporter": "python",
      "pygments_lexer": "ipython3",
      "version": "3.11.4"
    }
  },
  "nbformat": 4,
  "nbformat_minor": 0
}