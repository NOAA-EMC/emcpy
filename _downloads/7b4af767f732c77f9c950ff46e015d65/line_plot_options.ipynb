{
  "cells": [
    {
      "cell_type": "markdown",
      "metadata": {},
      "source": [
        "\n# Line Plot Options\n\nThis script shows several examples of the many\ndifferent line plot options. They follow the same\noptions as matplotlib.\n"
      ]
    },
    {
      "cell_type": "code",
      "execution_count": null,
      "metadata": {
        "collapsed": false
      },
      "outputs": [],
      "source": [
        "import numpy as np\nimport matplotlib.pyplot as plt\n\nfrom emcpy.plots.plots import LinePlot, HorizontalLine\nfrom emcpy.plots.create_plots import CreatePlot, CreateFigure\n\n\ndef main():\n\n    x1 = [1, 2, 3, 4, 5]\n    y1 = [1, 2, 3, 4, 5]\n    x2 = [1, 2, 3, 4, 5]\n    y2 = [2, 4, 6, 8, 10]\n    x3 = [1, 2, 3, 4, 5]\n    y3 = [5, 4, 3, 2, 1]\n\n    # Top plot\n    plot1 = CreatePlot()  # Create  Plot\n    plt_list = []  # initialize emtpy plot list\n    lp = LinePlot(x1, y1)  # Create line plot object\n    lp.color = \"green\"  # line color\n    lp.linestyle = \"-\"  # line style\n    lp.linewidth = 1.5  # line width\n    lp.marker = \"o\"  # marker type\n    lp.markersize = 4  # markersize\n    lp.alpha = None  # transparency\n    lp.label = \"line1\"  # give it a label\n    plt_list.append(lp)  # Add line plot object to list\n\n    lp = LinePlot(x2, y2)  # Create line plot object\n    lp.color = \"red\"  # line color\n    lp.linestyle = \"-\"  # line style\n    lp.linewidth = 1.5  # line width\n    lp.marker = \"o\"  # marker type\n    lp.markersize = 4  # markersize\n    lp.alpha = None  # transparency\n    lp.label = \"line2\"  # give it a label\n    plt_list.append(lp)  # Add line plot object to list\n\n    # Bottom plot\n    plot2 = CreatePlot()  # Create Plot\n    plt_list2 = []  # initialize empty plot list\n    lp = LinePlot(x3, y3)  # Create line plot object\n    lp.color = \"blue\"  # line color\n    lp.linestyle = \"-\"  # line style\n    lp.linewidth = 1.5  # line width\n    lp.marker = \"o\"  # marker type\n    lp.markersize = 4  # markersize\n    lp.alpha = None  # transparency\n    lp.label = \"line3\"  # give it a label\n    plt_list2.append(lp)  # Add line plot object to list\n\n    lp = HorizontalLine(1)  # Draw horizontal line\n    lp.color = \"black\"  # line color\n    lp.linestyle = \"-\"  # line style\n    lp.linewidth = 1.5  # line width\n    lp.marker = None  # marker type\n    lp.alpha = None  # transparency\n    lp.label = None  # give it a label\n    plt_list2.append(lp)  # Add line plot object to list\n\n    plot1.plot_layers = plt_list  # draw plot1 (the top plot)\n    plot2.plot_layers = plt_list2  # draw plot2 (the bottom plot)\n\n    # Add plot features\n    plot1.add_title(label=\"Test Line Plot 1\")\n    plot1.add_xlabel(xlabel=\"X Axis Label 1\")\n    plot1.add_ylabel(ylabel=\"Y Axis Label 1\")\n    plot1.add_grid()\n    plot1.set_xticks(x1)\n    plot1.set_xticklabels([str(item) for item in x1], rotation=0)\n    yticks = np.arange(np.min(y2), np.max(y2) + 1, 1)\n    plot1.set_yticks(yticks)\n    plot1.set_yticklabels([str(item) for item in yticks], rotation=0)\n    plot1.add_legend(loc=\"upper left\", fancybox=True, framealpha=0.80)\n\n    # Add plot features\n    plot2.add_title(label=\"Test Line Plot 2\")\n    plot2.add_xlabel(xlabel=\"X Axis Label 2\")\n    plot2.add_ylabel(ylabel=\"Y Axis Label 2\")\n    plot2.add_grid()\n    plot2.set_xticks(x2)\n    plot2.set_xticklabels([str(item) for item in x2], rotation=0)\n    yticks = np.arange(np.min(y2), np.max(y2) + 1, 1)\n    plot2.set_yticks(yticks)\n    plot2.set_yticklabels([str(item) for item in yticks], rotation=0)\n    plot2.add_legend(loc=\"upper left\", fancybox=True, framealpha=0.80)\n\n    # Return matplotlib figure\n    fig = CreateFigure(nrows=2, ncols=1, figsize=(8, 6))\n    fig.plot_list = [plot1, plot2]\n    fig.create_figure()\n    fig.add_suptitle(\"Super Title\")\n    fig.tight_layout()\n\n    plt.show()\n\n\nif __name__ == '__main__':\n    main()"
      ]
    }
  ],
  "metadata": {
    "kernelspec": {
      "display_name": "Python 3",
      "language": "python",
      "name": "python3"
    },
    "language_info": {
      "codemirror_mode": {
        "name": "ipython",
        "version": 3
      },
      "file_extension": ".py",
      "mimetype": "text/x-python",
      "name": "python",
      "nbconvert_exporter": "python",
      "pygments_lexer": "ipython3",
      "version": "3.11.4"
    }
  },
  "nbformat": 4,
  "nbformat_minor": 0
}