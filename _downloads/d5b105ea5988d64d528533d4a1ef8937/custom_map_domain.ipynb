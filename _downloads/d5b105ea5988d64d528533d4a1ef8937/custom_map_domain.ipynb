{
  "cells": [
    {
      "cell_type": "markdown",
      "metadata": {},
      "source": [
        "\n# Create a custom map domain\n\nEMCPy's map domain includes a feature\nto create a custom dictionary with specified\nlat and lon inputs to create a specific map\ndomain. This is helpful for users who want to\nlook at a specific domain that is not included in EMCPy.\n"
      ]
    },
    {
      "cell_type": "code",
      "execution_count": null,
      "metadata": {
        "collapsed": false
      },
      "outputs": [],
      "source": [
        "import numpy as np\nimport matplotlib.pyplot as plt\n\nfrom emcpy.plots import CreatePlot, CreateFigure\nfrom emcpy.plots.map_tools import Domain, MapProjection\n\n\ndef main():\n    # Create dictionary with information pertaining to\n    # Africa domain\n    africa_dict = {\n        \"extent\": (-20, 55, -35, 35),\n        \"xticks\": (-15, 0, 15, 30, 45),\n        \"yticks\": (-30, -15, 0, 15, 30),\n        \"cenlon\": 20.,\n        \"cenlat\": -10.\n    }\n\n    # Create plot object and add features\n    plot1 = CreatePlot()\n    plot1.projection = 'plcarr'\n    # Add data as a tuple with 'custom' as domain name\n    # and `africa_dict` as dictionary\n    plot1.domain = ('custom', africa_dict)\n    plot1.add_map_features(['coastline'])\n    plot1.add_xlabel(xlabel='longitude')\n    plot1.add_ylabel(ylabel='latitude')\n    plot1.add_title(label='Custom Africa Domain', loc='center',\n                    fontsize=12)\n\n    fig = CreateFigure()\n    fig.plot_list = [plot1]\n    fig.create_figure()\n\n    plt.show()\n\n\nif __name__ == '__main__':\n    main()"
      ]
    }
  ],
  "metadata": {
    "kernelspec": {
      "display_name": "Python 3",
      "language": "python",
      "name": "python3"
    },
    "language_info": {
      "codemirror_mode": {
        "name": "ipython",
        "version": 3
      },
      "file_extension": ".py",
      "mimetype": "text/x-python",
      "name": "python",
      "nbconvert_exporter": "python",
      "pygments_lexer": "ipython3",
      "version": "3.11.4"
    }
  },
  "nbformat": 4,
  "nbformat_minor": 0
}