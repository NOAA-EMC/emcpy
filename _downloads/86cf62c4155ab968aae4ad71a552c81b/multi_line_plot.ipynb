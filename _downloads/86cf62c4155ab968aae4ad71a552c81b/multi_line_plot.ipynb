{
  "cells": [
    {
      "cell_type": "markdown",
      "metadata": {},
      "source": [
        "\n# Plotting multiple lines on a single plot\n\nThe following example shows how to use EMCPy's\nmethod to plot several lines on a single subplot.\nThe user creates three separate objects using different\ndata and plots them on the same layer.\n"
      ]
    },
    {
      "cell_type": "code",
      "execution_count": null,
      "metadata": {
        "collapsed": false
      },
      "outputs": [],
      "source": [
        "import numpy as np\nimport matplotlib.pyplot as plt\n\nfrom emcpy.plots.plots import LinePlot\nfrom emcpy.plots.create_plots import CreatePlot, CreateFigure\n\n\ndef _getLineData():\n    # generate test data for line plots\n\n    x1 = [0, 401, 1039, 2774, 2408]\n    x2 = [500, 250, 710, 1515, 1212]\n    x3 = [400, 150, 910, 1215, 850]\n    y1 = [0, 2.5, 5, 7.5, 12.5]\n    y2 = [1, 5, 6, 8, 10]\n    y3 = [1, 4, 5.5, 9, 10.5]\n\n    return x1, y1, x2, y2, x3, y3\n\n\ndef main():\n    # create line plot with multiple lines\n    x1, y1, x2, y2, x3, y3 = _getLineData()\n    lp1 = LinePlot(x1, y1)\n    lp1.label = 'line 1'\n\n    lp2 = LinePlot(x2, y2)\n    lp2.color = 'tab:green'\n    lp2.label = 'line 2'\n\n    lp3 = LinePlot(x3, y3)\n    lp3.color = 'tab:red'\n    lp3.label = 'line 3'\n\n    plot1 = CreatePlot()\n    plot1.plot_layers = [lp1, lp2, lp3]\n    plot1.add_title('Test Line Plot')\n    plot1.add_xlabel('X Axis Label')\n    plot1.add_ylabel('Y Axis Label')\n    plot1.add_legend(loc='upper right')\n\n    fig = CreateFigure()\n    fig.plot_list = [plot1]\n    fig.create_figure()\n\n    plt.show()\n\n\nif __name__ == '__main__':\n    main()"
      ]
    }
  ],
  "metadata": {
    "kernelspec": {
      "display_name": "Python 3",
      "language": "python",
      "name": "python3"
    },
    "language_info": {
      "codemirror_mode": {
        "name": "ipython",
        "version": 3
      },
      "file_extension": ".py",
      "mimetype": "text/x-python",
      "name": "python",
      "nbconvert_exporter": "python",
      "pygments_lexer": "ipython3",
      "version": "3.11.4"
    }
  },
  "nbformat": 4,
  "nbformat_minor": 0
}