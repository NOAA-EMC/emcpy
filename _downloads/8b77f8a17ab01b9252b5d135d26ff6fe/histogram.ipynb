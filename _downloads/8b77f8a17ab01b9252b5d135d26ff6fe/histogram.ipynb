{
  "cells": [
    {
      "cell_type": "markdown",
      "metadata": {},
      "source": [
        "\n# Creating a simple histogram\n\nBelow is an example of how to plot a basic\nhistogram plot using EMCPy's plotting method.\n"
      ]
    },
    {
      "cell_type": "code",
      "execution_count": null,
      "metadata": {
        "collapsed": false
      },
      "outputs": [],
      "source": [
        "import numpy as np\nimport matplotlib.pyplot as plt\n\nfrom emcpy.plots.plots import Histogram\nfrom emcpy.plots.create_plots import CreatePlot, CreateFigure\n\n\ndef main():\n    # Generate test data for histogram plots\n    mu = 100  # mean of distribution\n    sigma = 15  # standard deviation of distribution\n    data = mu + sigma * np.random.randn(437)\n\n    # Create histogram object\n    hst = Histogram(data)\n    hst.color = 'tab:green'\n    hst.alpha = 0.7\n    hst.label = 'data'\n\n    # Create histogram plot object and add features\n    plot1 = CreatePlot()\n    plot1.plot_layers = [hst]\n    plot1.add_title(label='Test Histogram Plot')\n    plot1.add_xlabel(xlabel='X Axis Label')\n    plot1.add_ylabel(ylabel='Y Axis Label')\n    plot1.add_legend()\n\n    # Create figure and save as png\n    fig = CreateFigure()\n    fig.plot_list = [plot1]\n    fig.create_figure()\n\n    plt.show()\n\n\nif __name__ == '__main__':\n    main()"
      ]
    }
  ],
  "metadata": {
    "kernelspec": {
      "display_name": "Python 3",
      "language": "python",
      "name": "python3"
    },
    "language_info": {
      "codemirror_mode": {
        "name": "ipython",
        "version": 3
      },
      "file_extension": ".py",
      "mimetype": "text/x-python",
      "name": "python",
      "nbconvert_exporter": "python",
      "pygments_lexer": "ipython3",
      "version": "3.11.4"
    }
  },
  "nbformat": 4,
  "nbformat_minor": 0
}