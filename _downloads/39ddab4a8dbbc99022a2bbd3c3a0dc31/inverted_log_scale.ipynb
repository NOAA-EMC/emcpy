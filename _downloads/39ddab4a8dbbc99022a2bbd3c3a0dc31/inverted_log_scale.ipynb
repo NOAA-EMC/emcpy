{
  "cells": [
    {
      "cell_type": "markdown",
      "metadata": {},
      "source": [
        "\n# Invert log scale\n\nThis example shows how to create an inverted\ny-axis that also uses a log scale. This is useful\nif you are looking at a column of data throughout\nthe atmosphere and the y-axis is pressure.\n"
      ]
    },
    {
      "cell_type": "code",
      "execution_count": null,
      "metadata": {
        "collapsed": false
      },
      "outputs": [],
      "source": [
        "import numpy as np\nimport matplotlib.pyplot as plt\n\nfrom emcpy.plots.plots import LinePlot\nfrom emcpy.plots.create_plots import CreatePlot, CreateFigure\n\n\ndef main():\n\n    x = [0, 401, 1039, 2774, 2408, 512]\n    y = [0, 45, 225, 510, 1200, 1820]\n\n    # Create line plot object\n    lp = LinePlot(x, y)\n\n    # Create plot object and add features\n    plot1 = CreatePlot()\n    plot1.plot_layers = [lp]\n    plot1.add_title(label='Test Line Plot, Inverted Log Scale')\n    plot1.add_xlabel(xlabel='X Axis Label')\n    plot1.add_ylabel(ylabel='Y Axis Label')\n\n    # Set y-scale to log and invert\n    plot1.set_yscale('log')\n    plot1.invert_yaxis()\n\n    # Set new y labels\n    ylabels = [0, 50, 100, 500, 1000, 2000]\n    plot1.set_yticklabels(labels=ylabels)\n\n    # Create figure\n    fig = CreateFigure()\n    fig.plot_list = [plot1]\n    fig.create_figure()\n\n    plt.show()\n\n\nif __name__ == '__main__':\n    main()"
      ]
    }
  ],
  "metadata": {
    "kernelspec": {
      "display_name": "Python 3",
      "language": "python",
      "name": "python3"
    },
    "language_info": {
      "codemirror_mode": {
        "name": "ipython",
        "version": 3
      },
      "file_extension": ".py",
      "mimetype": "text/x-python",
      "name": "python",
      "nbconvert_exporter": "python",
      "pygments_lexer": "ipython3",
      "version": "3.11.4"
    }
  },
  "nbformat": 4,
  "nbformat_minor": 0
}