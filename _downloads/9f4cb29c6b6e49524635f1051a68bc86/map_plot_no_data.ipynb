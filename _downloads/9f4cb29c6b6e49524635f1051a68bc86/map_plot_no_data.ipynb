{
  "cells": [
    {
      "cell_type": "markdown",
      "metadata": {},
      "source": [
        "\n# Creating a map plot with no data\n\nThe following example shows how to use the\nmap features in EMCPy. The map feature underlying\nsource code comes from `Cartopy`.\n"
      ]
    },
    {
      "cell_type": "code",
      "execution_count": null,
      "metadata": {
        "collapsed": false
      },
      "outputs": [],
      "source": [
        "import matplotlib.pyplot as plt\nfrom emcpy.plots import CreatePlot, CreateFigure\nfrom emcpy.plots.map_tools import Domain, MapProjection\n\n\ndef main():\n    # Create global map with no data using\n    # PlateCarree projection and coastlines\n    plot1 = CreatePlot()\n    plot1.projection = 'plcarr'\n    plot1.domain = 'global'\n    plot1.add_map_features(['coastline', 'land', 'ocean'])\n    plot1.add_xlabel(xlabel='longitude')\n    plot1.add_ylabel(ylabel='latitude')\n\n    fig = CreateFigure()\n    fig.plot_list = [plot1]\n    fig.create_figure()\n\n    plt.show()\n\n\nif __name__ == '__main__':\n    main()"
      ]
    }
  ],
  "metadata": {
    "kernelspec": {
      "display_name": "Python 3",
      "language": "python",
      "name": "python3"
    },
    "language_info": {
      "codemirror_mode": {
        "name": "ipython",
        "version": 3
      },
      "file_extension": ".py",
      "mimetype": "text/x-python",
      "name": "python",
      "nbconvert_exporter": "python",
      "pygments_lexer": "ipython3",
      "version": "3.11.4"
    }
  },
  "nbformat": 4,
  "nbformat_minor": 0
}