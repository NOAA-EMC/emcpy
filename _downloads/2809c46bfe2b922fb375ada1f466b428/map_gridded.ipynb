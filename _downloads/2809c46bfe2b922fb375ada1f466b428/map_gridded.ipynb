{
  "cells": [
    {
      "cell_type": "markdown",
      "metadata": {},
      "source": [
        "\n# Create a map plot with gridded data\n\nThe following example plots gridded data over\na CONUS domain.\n"
      ]
    },
    {
      "cell_type": "code",
      "execution_count": null,
      "metadata": {
        "collapsed": false
      },
      "outputs": [],
      "source": [
        "import numpy as np\nimport matplotlib.pyplot as plt\nfrom emcpy.plots import CreatePlot, CreateFigure\nfrom emcpy.plots.map_tools import Domain, MapProjection\nfrom emcpy.plots.map_plots import MapGridded\n\n\ndef main():\n    # Create 2d gridded plot on global domian\n    lats = np.linspace(25, 50, 25)\n    lons = np.linspace(245, 290, 45)\n    X, Y = np.meshgrid(lats, lons)\n    Z = np.random.normal(size=X.shape)\n\n    # Create gridded map object\n    gridded = MapGridded(X, Y, Z)\n    gridded.cmap = 'plasma'\n\n    # Create plot object and add features\n    plot1 = CreatePlot()\n    plot1.plot_layers = [gridded]\n    plot1.projection = 'plcarr'\n    plot1.domain = 'conus'\n    plot1.add_map_features(['coastline'])\n    plot1.add_xlabel(xlabel='longitude')\n    plot1.add_ylabel(ylabel='latitude')\n    plot1.add_title(label='2D Gridded Data', loc='center')\n    plot1.add_grid()\n    plot1.add_colorbar(label='colorbar label',\n                       fontsize=12, extend='neither')\n\n    # Create figure\n    fig = CreateFigure()\n    fig.plot_list = [plot1]\n    fig.create_figure()\n\n    plt.show()\n\n\nif __name__ == '__main__':\n    main()"
      ]
    }
  ],
  "metadata": {
    "kernelspec": {
      "display_name": "Python 3",
      "language": "python",
      "name": "python3"
    },
    "language_info": {
      "codemirror_mode": {
        "name": "ipython",
        "version": 3
      },
      "file_extension": ".py",
      "mimetype": "text/x-python",
      "name": "python",
      "nbconvert_exporter": "python",
      "pygments_lexer": "ipython3",
      "version": "3.11.4"
    }
  },
  "nbformat": 4,
  "nbformat_minor": 0
}