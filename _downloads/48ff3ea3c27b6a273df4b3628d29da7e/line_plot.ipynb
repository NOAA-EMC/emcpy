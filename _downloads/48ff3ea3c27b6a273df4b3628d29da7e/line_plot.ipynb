{
  "cells": [
    {
      "cell_type": "markdown",
      "metadata": {},
      "source": [
        "\n# Creating a simple line plot\n\nBelow is an example of how to plot a basic\nline plot using EMCPy's plotting method.\n"
      ]
    },
    {
      "cell_type": "code",
      "execution_count": null,
      "metadata": {
        "collapsed": false
      },
      "outputs": [],
      "source": [
        "import numpy as np\nimport matplotlib.pyplot as plt\n\nfrom emcpy.plots.plots import LinePlot\nfrom emcpy.plots.create_plots import CreatePlot, CreateFigure\n\n\ndef main():\n\n    x = [1, 2, 3, 4, 5]\n    y = [1, 2, 3, 4, 5]\n\n    # Create line plot object\n    lp = LinePlot(x, y)\n    lp.label = 'line'\n\n    # Add line plot object to list\n    plt_list = [lp]\n\n    # Create plot object and add features\n    plot1 = CreatePlot()\n    plot1.plot_layers = [lp]\n    plot1.add_title('Test Line Plot')\n    plot1.add_xlabel('X Axis Label')\n    plot1.add_ylabel('Y Axis Label')\n    plot1.add_legend(loc='upper right')\n\n    # Create figure and save as png\n    fig = CreateFigure()\n    fig.plot_list = [plot1]\n    fig.create_figure()\n\n    plt.show()\n\n\nif __name__ == '__main__':\n    main()"
      ]
    }
  ],
  "metadata": {
    "kernelspec": {
      "display_name": "Python 3",
      "language": "python",
      "name": "python3"
    },
    "language_info": {
      "codemirror_mode": {
        "name": "ipython",
        "version": 3
      },
      "file_extension": ".py",
      "mimetype": "text/x-python",
      "name": "python",
      "nbconvert_exporter": "python",
      "pygments_lexer": "ipython3",
      "version": "3.11.4"
    }
  },
  "nbformat": 4,
  "nbformat_minor": 0
}