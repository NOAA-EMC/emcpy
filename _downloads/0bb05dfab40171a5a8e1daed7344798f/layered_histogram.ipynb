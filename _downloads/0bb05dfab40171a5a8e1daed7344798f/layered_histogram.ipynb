{
  "cells": [
    {
      "cell_type": "markdown",
      "metadata": {},
      "source": [
        "\n# Layered histograms\n\nThis example shows how to plot multiple\nhistograms as layers on single plot.\n"
      ]
    },
    {
      "cell_type": "code",
      "execution_count": null,
      "metadata": {
        "collapsed": false
      },
      "outputs": [],
      "source": [
        "import numpy as np\nimport matplotlib.pyplot as plt\n\nfrom emcpy.plots.plots import Histogram\nfrom emcpy.plots.create_plots import CreatePlot, CreateFigure\n\n\ndef main():\n    # Generate test data for histogram plots\n    mu = 100  # mean of distribution\n    sigma = 15  # standard deviation of distribution\n    data1 = mu + sigma * np.random.randn(450)\n    data2 = mu + sigma * np.random.randn(225)\n\n    # Create histogram objects\n    hst1 = Histogram(data1)\n    hst1.color = 'tab:green'\n    hst1.alpha = 0.7\n    hst1.label = 'data 1'\n\n    hst2 = Histogram(data2)\n    hst2.color = 'tab:purple'\n    hst2.alpha = 0.7\n    hst2.label = 'data 2'\n\n    # Create histogram plot object and add features\n    plot1 = CreatePlot()\n    plot1.plot_layers = [hst1, hst2]\n    plot1.add_title(label='Test Histogram Plot')\n    plot1.add_xlabel(xlabel='X Axis Label')\n    plot1.add_ylabel(ylabel='Y Axis Label')\n    plot1.add_legend()\n\n    # Create figure and save as png\n    fig = CreateFigure()\n    fig.plot_list = [plot1]\n    fig.create_figure()\n\n    plt.show()\n\n\nif __name__ == '__main__':\n    main()"
      ]
    }
  ],
  "metadata": {
    "kernelspec": {
      "display_name": "Python 3",
      "language": "python",
      "name": "python3"
    },
    "language_info": {
      "codemirror_mode": {
        "name": "ipython",
        "version": 3
      },
      "file_extension": ".py",
      "mimetype": "text/x-python",
      "name": "python",
      "nbconvert_exporter": "python",
      "pygments_lexer": "ipython3",
      "version": "3.11.4"
    }
  },
  "nbformat": 4,
  "nbformat_minor": 0
}