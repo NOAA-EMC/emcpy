{
  "cells": [
    {
      "cell_type": "markdown",
      "metadata": {},
      "source": [
        "\n# Creating a map plot with scatter data\n\nThe following example plots scatter data\non a map plot over a CONUS domain. This\nexample also shows how to annotate stats\non the plot.\n"
      ]
    },
    {
      "cell_type": "code",
      "execution_count": null,
      "metadata": {
        "collapsed": false
      },
      "outputs": [],
      "source": [
        "import numpy as np\nimport matplotlib.pyplot as plt\n\nfrom emcpy.plots import CreatePlot, CreateFigure\nfrom emcpy.plots.map_tools import Domain, MapProjection\nfrom emcpy.plots.map_plots import MapScatter\n\n\ndef main():\n    # Create test data\n    lats = np.linspace(35, 50, 30)\n    lons = np.linspace(-70, -120, 30)\n    data = np.linspace(200, 300, 30)\n\n    # Create scatter plot on CONUS domian\n    scatter = MapScatter(lats, lons, data)\n    # change colormap and markersize\n    scatter.cmap = 'Blues'\n    scatter.markersize = 25\n\n    # Create plot object and add features\n    plot1 = CreatePlot()\n    plot1.plot_layers = [scatter]\n    plot1.projection = 'plcarr'\n    plot1.domain = 'conus'\n    plot1.add_map_features(['coastline', 'states'])\n    plot1.add_xlabel(xlabel='longitude')\n    plot1.add_ylabel(ylabel='latitude')\n    plot1.add_title(label='EMCPy Map', loc='center',\n                    fontsize=20)\n    plot1.add_colorbar(label='colorbar label',\n                       fontsize=12, extend='neither')\n\n    # annotate some stats\n    stats_dict = {\n        'nobs': len(np.linspace(200, 300, 30)),\n        'vmin': 200,\n        'vmax': 300,\n    }\n    plot1.add_stats_dict(stats_dict=stats_dict, yloc=-0.175)\n\n    fig = CreateFigure()\n    fig.plot_list = [plot1]\n    fig.create_figure()\n\n    plt.show()\n\n\nif __name__ == '__main__':\n    main()"
      ]
    }
  ],
  "metadata": {
    "kernelspec": {
      "display_name": "Python 3",
      "language": "python",
      "name": "python3"
    },
    "language_info": {
      "codemirror_mode": {
        "name": "ipython",
        "version": 3
      },
      "file_extension": ".py",
      "mimetype": "text/x-python",
      "name": "python",
      "nbconvert_exporter": "python",
      "pygments_lexer": "ipython3",
      "version": "3.11.4"
    }
  },
  "nbformat": 4,
  "nbformat_minor": 0
}